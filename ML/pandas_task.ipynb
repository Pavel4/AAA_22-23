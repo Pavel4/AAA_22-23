{
 "cells": [
  {
   "cell_type": "code",
   "execution_count": 3,
   "id": "e2066f3c",
   "metadata": {},
   "outputs": [],
   "source": [
    "import datetime as dt\n",
    "import pandas as pd\n",
    "\n",
    "import warnings\n",
    "warnings.filterwarnings('ignore')"
   ]
  },
  {
   "cell_type": "code",
   "execution_count": 7,
   "id": "7708c108",
   "metadata": {},
   "outputs": [
    {
     "name": "stdout",
     "output_type": "stream",
     "text": [
      "mean_period_length:4.848 mean_sales_count:19.738 mean_periods_count:4.253\n"
     ]
    }
   ],
   "source": [
    "df = pd.read_table(\"dataset_521000_9.txt\", delimiter=\";\")  # Читаем файл\n",
    "df['date'] = pd.to_datetime(df['date'])  # Переводим столбец даты дату\n",
    "df.sort_values(by=['seller_id', 'date'], inplace=True)  # Отсортируем по магазинам и дате\n",
    "\n",
    "df['period'] = df['date'].dt.date.diff(periods=1).apply(lambda x: x.days)  # Считаем разницу между соседними продажами\n",
    "df.reset_index(drop=True, inplace=True)\n",
    "\n",
    "df['period'][0] = 1  # Зададим период для нулевой строки\n",
    "df['rank_period'] = 1  # Зададим ранк для нулевой стркои\n",
    "\n",
    "'''\n",
    "Не придумал как сделать это без цикла.\n",
    "Как можно в следующей строке использовать только что измененное значение предыдущей (???)\n",
    "'''\n",
    "for i in range(1, df.shape[0]):\n",
    "    df['rank_period'][i] = df['rank_period'][i - 1] if df['period'][i] == 1.0 and df['seller_id'][i] == df['seller_id'][i - 1] \\\n",
    "                        else (df['rank_period'][i - 1] + 1)\n",
    "    \n",
    "\n",
    "# Далее считаем все требуемые величины\n",
    "len_period = list(df.groupby('rank_period').count()['period'])\n",
    "mean_period_length = round(sum(len_period) / len(len_period), 3)\n",
    "\n",
    "rank_period_quant_array = list(df.groupby('rank_period').sum()['quantity'] / len_period)\n",
    "mean_sales_count = round(sum(rank_period_quant_array) / len(rank_period_quant_array), 3)\n",
    "\n",
    "mean_periods_count = round(df.groupby('seller_id').nunique()['rank_period'].sum() / df.seller_id.nunique(0), 3)\n",
    "\n",
    "print(f'mean_period_length:{mean_period_length} mean_sales_count:{mean_sales_count} mean_periods_count:{mean_periods_count}')"
   ]
  }
 ],
 "metadata": {
  "kernelspec": {
   "display_name": "Python 3",
   "language": "python",
   "name": "python3"
  },
  "language_info": {
   "codemirror_mode": {
    "name": "ipython",
    "version": 3
   },
   "file_extension": ".py",
   "mimetype": "text/x-python",
   "name": "python",
   "nbconvert_exporter": "python",
   "pygments_lexer": "ipython3",
   "version": "3.8.8"
  }
 },
 "nbformat": 4,
 "nbformat_minor": 5
}
