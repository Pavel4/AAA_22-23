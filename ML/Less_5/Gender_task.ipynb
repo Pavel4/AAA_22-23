{
 "cells": [
  {
   "cell_type": "code",
   "execution_count": 62,
   "id": "8e64f89b",
   "metadata": {},
   "outputs": [],
   "source": [
    "import numpy as np\n",
    "import pandas as pd\n",
    "from sklearn.model_selection import train_test_split\n",
    "from sklearn.preprocessing import OneHotEncoder\n",
    "\n",
    "from LogisticRegression_task import *"
   ]
  },
  {
   "cell_type": "code",
   "execution_count": 63,
   "id": "a478954b",
   "metadata": {},
   "outputs": [],
   "source": [
    "# Загружаем данные\n",
    "train = pd.read_csv('binary_clf_data.csv')\n",
    "test = pd.read_csv('dataset_527992_9.txt')\n",
    "\n",
    "# Оставляем только нужные колонки\n",
    "train = train[['category_name', 'subcategory_name', 'param1', 'param2', 'gender', 'user_id']]\n",
    "test = test[['category_name', 'subcategory_name', 'param1', 'param2', 'user_id']]\n",
    "\n",
    "# Переводим категории в OHE,\n",
    "# handle_unknown='ignore' помогает решить проблема появления новых категорий в тесте \n",
    "enc = OneHotEncoder(handle_unknown='ignore', sparse=False)\n",
    "train_enc = enc.fit_transform(train[['category_name', 'subcategory_name', 'param1', 'param2']])\n",
    "test_enc = enc.transform(test[['category_name', 'subcategory_name', 'param1', 'param2']])\n",
    "\n",
    "train = pd.concat([train[['gender', 'user_id']], pd.DataFrame(train_enc, columns=[name[3:] for name in enc.get_feature_names()])], axis=1)\n",
    "test = pd.concat([test['user_id'], pd.DataFrame(test_enc, columns=[name[3:] for name in enc.get_feature_names()])], axis=1)\n",
    "\n",
    "# Агрегируем по user_id и gender, а reset_index() поможет оставить эти столбцы в нормальном виде\n",
    "train = train.groupby(['user_id', 'gender']).sum().reset_index()\n",
    "test = test.groupby(['user_id']).sum().reset_index()\n",
    "\n",
    "# Закодируем gender\n",
    "train['gender'] = train['gender'].apply(lambda x: 1 if x == 'male' else 0)\n",
    "\n",
    "# Делим выборку\n",
    "X_train, X_val, y_train, y_val = train_test_split(train.drop(['gender', 'user_id'], axis=1), train['gender'], test_size=0.25)"
   ]
  },
  {
   "cell_type": "code",
   "execution_count": 70,
   "id": "a0d96c23",
   "metadata": {},
   "outputs": [
    {
     "name": "stdout",
     "output_type": "stream",
     "text": [
      "3000 completed. accuracy on train: 0.7063326374391092,             val: 0.6784968684759917,  grad norm: 0.02568150394257666\n",
      "6000 completed. accuracy on train: 0.7265135699373695,             val: 0.6889352818371608,  grad norm: 0.018255402031112856\n",
      "9000 completed. accuracy on train: 0.7383437717466945,             val: 0.7118997912317327,  grad norm: 0.014558050932321558\n",
      "12000 completed. accuracy on train: 0.7432150313152401,             val: 0.7098121085594989,  grad norm: 0.012283506915207845\n",
      "15000 completed. accuracy on train: 0.7494780793319415,             val: 0.7139874739039666,  grad norm: 0.010705204699119498\n",
      "18000 completed. accuracy on train: 0.7543493389004872,             val: 0.7181628392484343,  grad norm: 0.009520174976905068\n",
      "21000 completed. accuracy on train: 0.756437021572721,             val: 0.7202505219206681,  grad norm: 0.008581111967909668\n",
      "24000 completed. accuracy on train: 0.7543493389004872,             val: 0.7118997912317327,  grad norm: 0.007808369332907155\n"
     ]
    },
    {
     "data": {
      "text/plain": [
       "<LogisticRegression_task.LogisticRegression at 0x213265ca640>"
      ]
     },
     "execution_count": 70,
     "metadata": {},
     "output_type": "execute_result"
    }
   ],
   "source": [
    "clf = LogisticRegression(max_iter=24e3, lr=0.015, tol=0.001, reg_coef=6e-4, print_every=3000)\n",
    "clf.fit(np.array(X_train), np.array(y_train).reshape(-1, 1), np.array(X_val), np.array(y_val).reshape(-1, 1))"
   ]
  },
  {
   "cell_type": "code",
   "execution_count": 67,
   "id": "b6ff5001",
   "metadata": {},
   "outputs": [],
   "source": [
    "predictions = clf.predict(np.array(test.drop('user_id',axis=1)))\n",
    "test['gender'] = predictions\n",
    "test['gender'] = test['gender'].apply(lambda x: 'male' if x == 1 else 'female')\n",
    "test[['user_id', 'gender']].to_csv('test_predictions.csv', index=False)"
   ]
  }
 ],
 "metadata": {
  "kernelspec": {
   "display_name": "Python 3",
   "language": "python",
   "name": "python3"
  },
  "language_info": {
   "codemirror_mode": {
    "name": "ipython",
    "version": 3
   },
   "file_extension": ".py",
   "mimetype": "text/x-python",
   "name": "python",
   "nbconvert_exporter": "python",
   "pygments_lexer": "ipython3",
   "version": "3.8.8"
  }
 },
 "nbformat": 4,
 "nbformat_minor": 5
}
