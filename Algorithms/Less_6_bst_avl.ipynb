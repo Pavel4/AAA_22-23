{
 "cells": [
  {
   "cell_type": "code",
   "execution_count": 1,
   "metadata": {
    "ExecuteTime": {
     "end_time": "2022-11-23T07:31:37.326880Z",
     "start_time": "2022-11-23T07:31:37.313066Z"
    }
   },
   "outputs": [],
   "source": [
    "class BSTNode(object):\n",
    "    \"\"\"A node in the vanilla BST tree.\"\"\"\n",
    "    \n",
    "    def __init__(self, parent, k):\n",
    "        \"\"\"Creates a node.\n",
    "        \n",
    "        Args:\n",
    "            parent: The node's parent.\n",
    "            k: key of the node.\n",
    "        \"\"\"\n",
    "        self.key = k\n",
    "        self.parent = parent\n",
    "        self.left = None\n",
    "        self.right = None\n",
    "        \n",
    "    def _str(self):\n",
    "        \"\"\"Internal method for ASCII art.\"\"\"\n",
    "        label = str(self.key)\n",
    "        if self.left is None:\n",
    "            left_lines, left_pos, left_width = [], 0, 0\n",
    "        else:\n",
    "            left_lines, left_pos, left_width = self.left._str()\n",
    "        if self.right is None:\n",
    "            right_lines, right_pos, right_width = [], 0, 0\n",
    "        else:\n",
    "            right_lines, right_pos, right_width = self.right._str()\n",
    "        middle = max(right_pos + left_width - left_pos + 1, len(label), 2)\n",
    "        pos = left_pos + middle // 2\n",
    "        width = left_pos + middle + right_width - right_pos\n",
    "        while len(left_lines) < len(right_lines):\n",
    "            left_lines.append(' ' * left_width)\n",
    "        while len(right_lines) < len(left_lines):\n",
    "            right_lines.append(' ' * right_width)\n",
    "        if (middle - len(label)) % 2 == 1 and self.parent is not None and \\\n",
    "           self is self.parent.left and len(label) < middle:\n",
    "            label += '.'\n",
    "        label = label.center(middle, '.')\n",
    "        if label[0] == '.': label = ' ' + label[1:]\n",
    "        if label[-1] == '.': label = label[:-1] + ' '\n",
    "        lines = [' ' * left_pos + label + ' ' * (right_width - right_pos),\n",
    "                 ' ' * left_pos + '/' + ' ' * (middle-2) +\n",
    "                 '\\\\' + ' ' * (right_width - right_pos)] + \\\n",
    "          [left_line + ' ' * (width - left_width - right_width) + right_line\n",
    "           for left_line, right_line in zip(left_lines, right_lines)]\n",
    "        return lines, pos, width\n",
    "    def __str__(self):\n",
    "        return '\\n'.join(self._str()[0])\n",
    "\n",
    "\n",
    "    def find(self, k):\n",
    "        \"\"\"Finds and returns the node with key k from the subtree rooted at this \n",
    "        node.\n",
    "        \n",
    "        Args:\n",
    "            k: The key of the node we want to find.\n",
    "        \n",
    "        Returns:\n",
    "            The node with key k.\n",
    "        \"\"\"\n",
    "        if k == self.key:\n",
    "            return self\n",
    "        elif k < self.key:\n",
    "            if self.left is None:\n",
    "                return None\n",
    "            else:\n",
    "                return self.left.find(k)\n",
    "        else:\n",
    "            if self.right is None:  \n",
    "                return None\n",
    "            else:\n",
    "                return self.right.find(k)\n",
    "    \n",
    "    def find_min(self):\n",
    "        \"\"\"Finds the node with the minimum key in the subtree rooted at this \n",
    "        node.\n",
    "        \n",
    "        Returns:\n",
    "            The node with the minimum key.\n",
    "        \"\"\"\n",
    "        current = self\n",
    "        while current.left is not None:\n",
    "            current = current.left\n",
    "        return current\n",
    "       \n",
    "    def next_larger(self):\n",
    "        \"\"\"Returns the node with the next larger key (the successor) in the BST.\n",
    "        \"\"\"\n",
    "        if self.right is not None:\n",
    "            return self.right.find_min()\n",
    "        current = self\n",
    "        while current.parent is not None and current is current.parent.right:\n",
    "            current = current.parent\n",
    "        return current.parent\n",
    "\n",
    "    def insert(self, node):\n",
    "        \"\"\"Inserts a node into the subtree rooted at this node.\n",
    "        \n",
    "        Args:\n",
    "            node: The node to be inserted.\n",
    "        \"\"\"\n",
    "        if node is None:\n",
    "            return\n",
    "        if node.key < self.key:\n",
    "            if self.left is None:\n",
    "                node.parent = self\n",
    "                self.left = node\n",
    "            else:\n",
    "                self.left.insert(node)\n",
    "        else:\n",
    "            if self.right is None:\n",
    "                node.parent = self\n",
    "                self.right = node\n",
    "            else:\n",
    "                self.right.insert(node)\n",
    "  \n",
    "    def delete(self):\n",
    "        \"\"\"Deletes and returns this node from the BST.\"\"\"\n",
    "        if self.left is None or self.right is None:\n",
    "            if self is self.parent.left:\n",
    "                self.parent.left = self.left or self.right\n",
    "                if self.parent.left is not None:\n",
    "                    self.parent.left.parent = self.parent\n",
    "            else:\n",
    "                self.parent.right = self.left or self.right\n",
    "                if self.parent.right is not None:\n",
    "                    self.parent.right.parent = self.parent\n",
    "            return self\n",
    "        else:\n",
    "            s = self.next_larger()\n",
    "            self.key, s.key = s.key, self.key\n",
    "            return s.delete()"
   ]
  },
  {
   "cell_type": "code",
   "execution_count": 2,
   "metadata": {
    "ExecuteTime": {
     "end_time": "2022-11-23T07:31:37.330044Z",
     "start_time": "2022-11-23T07:31:37.328405Z"
    }
   },
   "outputs": [],
   "source": [
    "root = BSTNode(None, 10)"
   ]
  },
  {
   "cell_type": "code",
   "execution_count": 3,
   "metadata": {
    "ExecuteTime": {
     "end_time": "2022-11-23T07:31:37.333953Z",
     "start_time": "2022-11-23T07:31:37.332497Z"
    }
   },
   "outputs": [],
   "source": [
    "root.insert(BSTNode(None, 12))"
   ]
  },
  {
   "cell_type": "code",
   "execution_count": 4,
   "metadata": {
    "ExecuteTime": {
     "end_time": "2022-11-23T07:31:37.336828Z",
     "start_time": "2022-11-23T07:31:37.334910Z"
    }
   },
   "outputs": [
    {
     "name": "stdout",
     "output_type": "stream",
     "text": [
      "10 \n",
      "/\\ \n",
      " 12\n",
      " /\\\n"
     ]
    }
   ],
   "source": [
    "print(root)"
   ]
  },
  {
   "cell_type": "code",
   "execution_count": null,
   "metadata": {},
   "outputs": [],
   "source": []
  }
 ],
 "metadata": {
  "kernelspec": {
   "display_name": "Python 3 (ipykernel)",
   "language": "python",
   "name": "python3"
  },
  "language_info": {
   "codemirror_mode": {
    "name": "ipython",
    "version": 3
   },
   "file_extension": ".py",
   "mimetype": "text/x-python",
   "name": "python",
   "nbconvert_exporter": "python",
   "pygments_lexer": "ipython3",
   "version": "3.9.10"
  }
 },
 "nbformat": 4,
 "nbformat_minor": 4
}
