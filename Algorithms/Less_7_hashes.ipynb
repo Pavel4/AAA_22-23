{
 "cells": [
  {
   "cell_type": "code",
   "execution_count": 16,
   "metadata": {
    "ExecuteTime": {
     "end_time": "2022-11-23T14:51:07.457073Z",
     "start_time": "2022-11-23T14:51:07.450257Z"
    }
   },
   "outputs": [],
   "source": [
    "import random\n",
    "import collections"
   ]
  },
  {
   "cell_type": "code",
   "execution_count": 2,
   "metadata": {
    "ExecuteTime": {
     "end_time": "2022-11-23T14:51:07.462046Z",
     "start_time": "2022-11-23T14:51:07.458954Z"
    }
   },
   "outputs": [],
   "source": [
    "def my_prehash(string):\n",
    "    h = 5381\n",
    "    for char in string:\n",
    "        h = h * 33 + ord(char)\n",
    "        \n",
    "    return h"
   ]
  },
  {
   "cell_type": "code",
   "execution_count": 3,
   "metadata": {
    "ExecuteTime": {
     "end_time": "2022-11-23T14:51:07.468665Z",
     "start_time": "2022-11-23T14:51:07.463144Z"
    }
   },
   "outputs": [
    {
     "data": {
      "text/plain": [
       "4"
      ]
     },
     "execution_count": 3,
     "metadata": {},
     "output_type": "execute_result"
    }
   ],
   "source": [
    "my_prehash('abcdefe') % 5"
   ]
  },
  {
   "cell_type": "code",
   "execution_count": 4,
   "metadata": {
    "ExecuteTime": {
     "end_time": "2022-11-23T14:51:07.473415Z",
     "start_time": "2022-11-23T14:51:07.471050Z"
    }
   },
   "outputs": [],
   "source": [
    "def random_str(size: int = 6) -> str:\n",
    "    gl = 'aeiou'\n",
    "    sgl = 'bcdfghjklmnpqrstvwxyz'\n",
    "    chars = []\n",
    "    for i in range(size):\n",
    "        if i % 2:\n",
    "            chars.append(random.choice(gl))\n",
    "        else:\n",
    "            chars.append(random.choice(sgl))\n",
    "            if i > 3 and random.randint(0, 100) < 30:\n",
    "                chars.append(random.choice(sgl))\n",
    "\n",
    "    return ''.join(chars)"
   ]
  },
  {
   "cell_type": "code",
   "execution_count": 21,
   "metadata": {
    "ExecuteTime": {
     "end_time": "2022-11-23T14:51:07.477338Z",
     "start_time": "2022-11-23T14:51:07.474682Z"
    }
   },
   "outputs": [
    {
     "data": {
      "text/plain": [
       "Counter({2: 1008,\n",
       "         4: 958,\n",
       "         7: 969,\n",
       "         8: 1011,\n",
       "         3: 1019,\n",
       "         1: 967,\n",
       "         0: 975,\n",
       "         9: 1009,\n",
       "         5: 1031,\n",
       "         6: 1053})"
      ]
     },
     "execution_count": 21,
     "metadata": {},
     "output_type": "execute_result"
    }
   ],
   "source": [
    "collections.Counter([my_prehash(random_str()) % 10 for _ in range(10000)])"
   ]
  },
  {
   "cell_type": "code",
   "execution_count": 24,
   "metadata": {
    "ExecuteTime": {
     "end_time": "2022-11-23T14:51:07.481053Z",
     "start_time": "2022-11-23T14:51:07.478922Z"
    }
   },
   "outputs": [
    {
     "data": {
      "text/plain": [
       "7"
      ]
     },
     "execution_count": 24,
     "metadata": {},
     "output_type": "execute_result"
    }
   ],
   "source": [
    "hash('abc') % 10"
   ]
  },
  {
   "cell_type": "code",
   "execution_count": 58,
   "metadata": {
    "ExecuteTime": {
     "end_time": "2022-11-23T14:51:07.484636Z",
     "start_time": "2022-11-23T14:51:07.481891Z"
    }
   },
   "outputs": [],
   "source": [
    "class MyDict:\n",
    "    \n",
    "    def __init__(self, size: int):\n",
    "        self.table = [[] for _ in range(size)]\n",
    "        self.size = size\n",
    "        \n",
    "        \n",
    "    def get_position(self, key):\n",
    "        return my_prehash(key) % self.size\n",
    "        \n",
    "        \n",
    "    def __setitem__(self, key, value):\n",
    "        position = self.get_position(key)\n",
    "        for i, (table_key, _) in enumerate(self.table[position]):\n",
    "            if key == table_key:\n",
    "                self.table[position][i] = (key, value)\n",
    "                return\n",
    "        \n",
    "        self.table[position].append((key, value))\n",
    "        \n",
    "    \n",
    "    def __getitem__(self, key):\n",
    "        position = self.get_position(key)\n",
    "        for table_key, value in self.table[position]:\n",
    "            if key == table_key:\n",
    "                return value\n",
    "            \n",
    "        raise KeyError(key)\n",
    "    \n",
    "        \n",
    "    def __delitem__(self, key):\n",
    "        index_to_delete = -1\n",
    "        chain = self.table[self.get_position(key)]\n",
    "        for i, (table_key, value) in enumerate(chain):\n",
    "            if key == table_key:\n",
    "                index_to_delete = i\n",
    "                break\n",
    "                \n",
    "        if index_to_delete >= 0:\n",
    "            chain[-1], chain[index_to_delete] = chain[index_to_delete], chain[-1]\n",
    "            chain.pop()\n",
    "        else:\n",
    "            raise KeyError(key)"
   ]
  },
  {
   "cell_type": "code",
   "execution_count": 59,
   "metadata": {},
   "outputs": [],
   "source": [
    "my_dict = MyDict(10)"
   ]
  },
  {
   "cell_type": "code",
   "execution_count": 60,
   "metadata": {},
   "outputs": [],
   "source": [
    "my_dict['cat'] = 'кот'\n",
    "my_dict['dog'] = 'пес'\n",
    "my_dict['cat'] = 'кот'"
   ]
  },
  {
   "cell_type": "code",
   "execution_count": 61,
   "metadata": {},
   "outputs": [],
   "source": [
    "for _ in range(10):\n",
    "    my_dict[random_str()] = random_str()"
   ]
  },
  {
   "cell_type": "code",
   "execution_count": 62,
   "metadata": {},
   "outputs": [
    {
     "data": {
      "text/plain": [
       "[[],\n",
       " [('wapolo', 'xowaci')],\n",
       " [],\n",
       " [('dog', 'пес'),\n",
       "  ('maqica', 'luxeya'),\n",
       "  ('lezogju', 'bugafna'),\n",
       "  ('sobabhu', 'nulike')],\n",
       " [('bimuge', 'becohku')],\n",
       " [('cat', 'кот'), ('quwaye', 'yakakqi'), ('fopeki', 'duguyi')],\n",
       " [('wikuzu', 'sufekxi')],\n",
       " [('duzimba', 'finubi')],\n",
       " [],\n",
       " [('yodona', 'xedazo')]]"
      ]
     },
     "execution_count": 62,
     "metadata": {},
     "output_type": "execute_result"
    }
   ],
   "source": [
    "my_dict.table"
   ]
  },
  {
   "cell_type": "code",
   "execution_count": 63,
   "metadata": {},
   "outputs": [],
   "source": [
    "del my_dict['wapolo']"
   ]
  },
  {
   "cell_type": "code",
   "execution_count": 64,
   "metadata": {},
   "outputs": [
    {
     "data": {
      "text/plain": [
       "[[],\n",
       " [],\n",
       " [],\n",
       " [('dog', 'пес'),\n",
       "  ('maqica', 'luxeya'),\n",
       "  ('lezogju', 'bugafna'),\n",
       "  ('sobabhu', 'nulike')],\n",
       " [('bimuge', 'becohku')],\n",
       " [('cat', 'кот'), ('quwaye', 'yakakqi'), ('fopeki', 'duguyi')],\n",
       " [('wikuzu', 'sufekxi')],\n",
       " [('duzimba', 'finubi')],\n",
       " [],\n",
       " [('yodona', 'xedazo')]]"
      ]
     },
     "execution_count": 64,
     "metadata": {},
     "output_type": "execute_result"
    }
   ],
   "source": [
    "my_dict.table"
   ]
  },
  {
   "cell_type": "code",
   "execution_count": 8,
   "metadata": {
    "ExecuteTime": {
     "end_time": "2022-11-23T14:51:07.487822Z",
     "start_time": "2022-11-23T14:51:07.485945Z"
    }
   },
   "outputs": [
    {
     "name": "stdout",
     "output_type": "stream",
     "text": [
      "1\n"
     ]
    }
   ],
   "source": [
    "d = {}\n",
    "d[1] = 1 # __setitem__\n",
    "print(d[1]) # __getitem__"
   ]
  },
  {
   "cell_type": "code",
   "execution_count": 9,
   "metadata": {
    "ExecuteTime": {
     "end_time": "2022-11-23T14:51:07.491470Z",
     "start_time": "2022-11-23T14:51:07.488615Z"
    }
   },
   "outputs": [],
   "source": [
    "class MyExtendableDictWithChaining:\n",
    "    \n",
    "    MIN_LOAD_FACTOR_TO_EXTEND = 0.8\n",
    "    \n",
    "    @property\n",
    "    def load_factor(self):\n",
    "        pass\n",
    "    \n",
    "    \n",
    "    def __init__(self, size: int):\n",
    "        self.table = [[] for _ in range(size)]\n",
    "        self.size = size\n",
    "        self.n_elements = 0\n",
    "        \n",
    "        \n",
    "    def get_position(self, key):\n",
    "        return hash(key) % self.size\n",
    "        \n",
    "        \n",
    "        \n",
    "    def __setitem__(self, key, value):\n",
    "        pass\n",
    "        \n",
    "            \n",
    "        \n",
    "            \n",
    "    def __getitem__(self, key):\n",
    "        pass\n",
    "        \n",
    "        \n",
    "    def __delitem__(self, key):\n",
    "        pass"
   ]
  },
  {
   "cell_type": "code",
   "execution_count": 10,
   "metadata": {
    "ExecuteTime": {
     "end_time": "2022-11-23T14:51:07.496518Z",
     "start_time": "2022-11-23T14:51:07.494236Z"
    }
   },
   "outputs": [],
   "source": [
    "class MyExtendableDictWithOpenAddressing:\n",
    "    \n",
    "    MIN_LOAD_FACTOR_TO_EXTEND = 0.8\n",
    "    \n",
    "    @property\n",
    "    def load_factor(self):\n",
    "        pass\n",
    "       \n",
    "    \n",
    "    def __init__(self, size: int):\n",
    "        pass\n",
    "        \n",
    "        \n",
    "    def get_position(self, key):\n",
    "        pass\n",
    "        \n",
    "        \n",
    "        \n",
    "    def __setitem__(self, key, value):\n",
    "        pass\n",
    "\n",
    "\n",
    "    def __getitem__(self, key):\n",
    "        pass\n",
    "        "
   ]
  },
  {
   "cell_type": "code",
   "execution_count": null,
   "metadata": {},
   "outputs": [],
   "source": []
  }
 ],
 "metadata": {
  "kernelspec": {
   "display_name": "Python 3 (ipykernel)",
   "language": "python",
   "name": "python3"
  },
  "language_info": {
   "codemirror_mode": {
    "name": "ipython",
    "version": 3
   },
   "file_extension": ".py",
   "mimetype": "text/x-python",
   "name": "python",
   "nbconvert_exporter": "python",
   "pygments_lexer": "ipython3",
   "version": "3.8.8"
  }
 },
 "nbformat": 4,
 "nbformat_minor": 4
}
